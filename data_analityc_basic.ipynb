{
 "cells": [
  {
   "cell_type": "code",
   "execution_count": null,
   "metadata": {},
   "outputs": [],
   "source": [
    "#esto es un comentario"
   ]
  },
  {
   "cell_type": "markdown",
   "metadata": {},
   "source": [
    "**texto destacado**\n",
    "\n",
    "_cursiva_\n",
    "\n",
    "# Titulo\n",
    "\n",
    "## Mas pequeño\n",
    "\n",
    "### Mas pequeño\n",
    "\n",
    "#### mas pequeño\n",
    "\n",
    "texto normal\n",
    "\n",
    "* punto 1\n",
    "* punto 2\n",
    "* punto 3\n",
    "- punto x\n",
    "- punto n\n",
    " formula matematica $A_{i}$\n",
    "\n",
    "\n",
    "### Tipos de datos\n",
    "\n",
    "* Variable entero -> int"
   ]
  },
  {
   "cell_type": "code",
   "execution_count": 2,
   "metadata": {},
   "outputs": [
    {
     "data": {
      "text/plain": [
       "4"
      ]
     },
     "execution_count": 2,
     "metadata": {},
     "output_type": "execute_result"
    }
   ],
   "source": [
    "a = 4\n",
    "a"
   ]
  },
  {
   "cell_type": "markdown",
   "metadata": {},
   "source": [
    "* Variable flotante -> float"
   ]
  },
  {
   "cell_type": "code",
   "execution_count": 3,
   "metadata": {},
   "outputs": [
    {
     "data": {
      "text/plain": [
       "2.5"
      ]
     },
     "execution_count": 3,
     "metadata": {},
     "output_type": "execute_result"
    }
   ],
   "source": [
    "b = 5/2\n",
    "b"
   ]
  },
  {
   "cell_type": "markdown",
   "metadata": {},
   "source": [
    "* En python existen los operadores aritmeticos basicos\n",
    "* Prueba alguna operacion\n",
    "* Suma +\n",
    "* Resta -\n",
    "* Multiplicacion *\n",
    "* divicion /"
   ]
  },
  {
   "cell_type": "code",
   "execution_count": 13,
   "metadata": {},
   "outputs": [
    {
     "name": "stdout",
     "output_type": "stream",
     "text": [
      "6.5\n",
      ",\n",
      "1.5\n",
      ",\n",
      "10.0\n",
      ",\n",
      "1.6\n",
      ",\n",
      "1.0\n",
      ",\n",
      "1.5\n",
      ",\n",
      "32.0\n"
     ]
    }
   ],
   "source": [
    "# Escribe algunas operaciones aritmeticas\n",
    "print(a + b,\",\", a - b,\",\",a * b,\",\",a / b,\",\",a // b,\",\",a % b,\",\",a ** b,sep = \"\\n\")"
   ]
  },
  {
   "cell_type": "code",
   "execution_count": 32,
   "metadata": {},
   "outputs": [],
   "source": [
    "# Aplicando funciones\n",
    "def func_sum(a,b):\n",
    "    return a + b\n",
    "\n",
    "def func_rest(a, b):\n",
    "    return a - b\n",
    "\n",
    "def func_multi(a, b):\n",
    "    return a * b\n",
    "\n",
    "def func_div(a, b):\n",
    "    return a / b\n",
    "\n",
    "def func_mod(a, b):\n",
    "    return a % b\n",
    "    \n",
    "def func_pot(a, b):\n",
    "    return a ** b\n",
    "    \n",
    "def func_div_int(a, b):\n",
    "    return a // b"
   ]
  },
  {
   "cell_type": "code",
   "execution_count": 16,
   "metadata": {},
   "outputs": [
    {
     "data": {
      "text/plain": [
       "6.5"
      ]
     },
     "execution_count": 16,
     "metadata": {},
     "output_type": "execute_result"
    }
   ],
   "source": [
    "func_sum(a, b)"
   ]
  },
  {
   "cell_type": "code",
   "execution_count": 17,
   "metadata": {},
   "outputs": [
    {
     "data": {
      "text/plain": [
       "1.5"
      ]
     },
     "execution_count": 17,
     "metadata": {},
     "output_type": "execute_result"
    }
   ],
   "source": [
    "func_rest(a, b)"
   ]
  },
  {
   "cell_type": "code",
   "execution_count": 18,
   "metadata": {},
   "outputs": [
    {
     "data": {
      "text/plain": [
       "1.6"
      ]
     },
     "execution_count": 18,
     "metadata": {},
     "output_type": "execute_result"
    }
   ],
   "source": [
    "func_div(a, b)"
   ]
  },
  {
   "cell_type": "code",
   "execution_count": 19,
   "metadata": {},
   "outputs": [
    {
     "data": {
      "text/plain": [
       "10.0"
      ]
     },
     "execution_count": 19,
     "metadata": {},
     "output_type": "execute_result"
    }
   ],
   "source": [
    "func_multi(a, b)"
   ]
  },
  {
   "cell_type": "code",
   "execution_count": 20,
   "metadata": {},
   "outputs": [
    {
     "data": {
      "text/plain": [
       "1.0"
      ]
     },
     "execution_count": 20,
     "metadata": {},
     "output_type": "execute_result"
    }
   ],
   "source": [
    "func_div_int(a, b)"
   ]
  },
  {
   "cell_type": "code",
   "execution_count": 21,
   "metadata": {},
   "outputs": [
    {
     "data": {
      "text/plain": [
       "1.5"
      ]
     },
     "execution_count": 21,
     "metadata": {},
     "output_type": "execute_result"
    }
   ],
   "source": [
    "func_mod(a, b)"
   ]
  },
  {
   "cell_type": "code",
   "execution_count": 22,
   "metadata": {},
   "outputs": [
    {
     "data": {
      "text/plain": [
       "32.0"
      ]
     },
     "execution_count": 22,
     "metadata": {},
     "output_type": "execute_result"
    }
   ],
   "source": [
    "func_pot(a, b)"
   ]
  },
  {
   "cell_type": "markdown",
   "metadata": {},
   "source": [
    "Variables tipo texto -> string"
   ]
  },
  {
   "cell_type": "code",
   "execution_count": 23,
   "metadata": {},
   "outputs": [
    {
     "data": {
      "text/plain": [
       "'hola'"
      ]
     },
     "execution_count": 23,
     "metadata": {},
     "output_type": "execute_result"
    }
   ],
   "source": [
    "c = \"hola\"\n",
    "c"
   ]
  },
  {
   "cell_type": "code",
   "execution_count": 27,
   "metadata": {},
   "outputs": [],
   "source": [
    "d = \" mundo\""
   ]
  },
  {
   "cell_type": "code",
   "execution_count": 28,
   "metadata": {},
   "outputs": [
    {
     "data": {
      "text/plain": [
       "'hola mundo'"
      ]
     },
     "execution_count": 28,
     "metadata": {},
     "output_type": "execute_result"
    }
   ],
   "source": [
    "c + d"
   ]
  },
  {
   "cell_type": "code",
   "execution_count": 29,
   "metadata": {},
   "outputs": [
    {
     "name": "stdout",
     "output_type": "stream",
     "text": [
      "mi nombre es Daniel\n"
     ]
    }
   ],
   "source": [
    "nombre = \"Daniel\"\n",
    "print(\"mi nombre es \" + nombre)"
   ]
  },
  {
   "cell_type": "code",
   "execution_count": 30,
   "metadata": {},
   "outputs": [
    {
     "name": "stdout",
     "output_type": "stream",
     "text": [
      "Mi nombre completo es Daniel Mardones\n"
     ]
    }
   ],
   "source": [
    "# Imprime en consola tu nombre y tu apellido\n",
    "apellido = 'Mardones'\n",
    "print('Mi nombre completo es ' + nombre + ' ' + apellido)"
   ]
  },
  {
   "cell_type": "markdown",
   "metadata": {},
   "source": [
    "### listas\n",
    "* las listas son un tipod e dato muy importante e interesante"
   ]
  },
  {
   "cell_type": "code",
   "execution_count": 31,
   "metadata": {},
   "outputs": [
    {
     "name": "stdout",
     "output_type": "stream",
     "text": [
      "['pan', 'manzanas', 'leche', 'arroz']\n"
     ]
    }
   ],
   "source": [
    "lista_super = ['pan', 'manzanas', 'leche', 'arroz']\n",
    "print(lista_super)"
   ]
  },
  {
   "cell_type": "code",
   "execution_count": 46,
   "metadata": {},
   "outputs": [
    {
     "data": {
      "text/plain": [
       "'manzanas'"
      ]
     },
     "execution_count": 46,
     "metadata": {},
     "output_type": "execute_result"
    }
   ],
   "source": [
    "# Ver elementos por indices\n",
    "lista_super[1]"
   ]
  },
  {
   "cell_type": "code",
   "execution_count": 47,
   "metadata": {},
   "outputs": [
    {
     "data": {
      "text/plain": [
       "'leche'"
      ]
     },
     "execution_count": 47,
     "metadata": {},
     "output_type": "execute_result"
    }
   ],
   "source": [
    "lista_super[2]"
   ]
  },
  {
   "cell_type": "code",
   "execution_count": 48,
   "metadata": {},
   "outputs": [
    {
     "data": {
      "text/plain": [
       "'pan'"
      ]
     },
     "execution_count": 48,
     "metadata": {},
     "output_type": "execute_result"
    }
   ],
   "source": [
    "lista_super[0]"
   ]
  },
  {
   "cell_type": "code",
   "execution_count": 52,
   "metadata": {},
   "outputs": [
    {
     "data": {
      "text/plain": [
       "['manzanas']"
      ]
     },
     "execution_count": 52,
     "metadata": {},
     "output_type": "execute_result"
    }
   ],
   "source": [
    "lista_super[1:2]"
   ]
  },
  {
   "cell_type": "code",
   "execution_count": 53,
   "metadata": {},
   "outputs": [],
   "source": [
    "lista_super.append('bebida')"
   ]
  },
  {
   "cell_type": "code",
   "execution_count": 54,
   "metadata": {},
   "outputs": [
    {
     "data": {
      "text/plain": [
       "['pan', 'manzanas', 'leche', 'arroz', 'bebida']"
      ]
     },
     "execution_count": 54,
     "metadata": {},
     "output_type": "execute_result"
    }
   ],
   "source": [
    "lista_super"
   ]
  },
  {
   "cell_type": "code",
   "execution_count": 45,
   "metadata": {},
   "outputs": [
    {
     "name": "stdout",
     "output_type": "stream",
     "text": [
      "Podemos imprimir textos largos con las tres comillas simples\n",
      "de  esta forma podemos crear ordenes mas complejas, por ejemplo: \n",
      " <class 'int'> \n",
      " <class 'float'> \n",
      " <class 'str'> \n",
      " <class 'str'> \n",
      " <class 'list'>\n"
     ]
    }
   ],
   "source": [
    "# Ver tipos de datos\n",
    "print('''Podemos imprimir textos largos con las tres comillas simples\n",
    "de  esta forma podemos crear ordenes mas complejas, por ejemplo: \n",
    "''' , type(a) ,'\\n', type(b),'\\n' , type(c),'\\n', type(d),'\\n',type(lista_super))"
   ]
  },
  {
   "cell_type": "code",
   "execution_count": 55,
   "metadata": {},
   "outputs": [],
   "source": [
    "mi_texto = 'me gusta python'"
   ]
  },
  {
   "cell_type": "code",
   "execution_count": 58,
   "metadata": {},
   "outputs": [
    {
     "data": {
      "text/plain": [
       "'Me gusta python'"
      ]
     },
     "execution_count": 58,
     "metadata": {},
     "output_type": "execute_result"
    }
   ],
   "source": [
    "# Primera letra en mayuscula\n",
    "mi_texto.capitalize() "
   ]
  },
  {
   "cell_type": "code",
   "execution_count": 61,
   "metadata": {},
   "outputs": [
    {
     "data": {
      "text/plain": [
       "'ME GUSTA PYTHON'"
      ]
     },
     "execution_count": 61,
     "metadata": {},
     "output_type": "execute_result"
    }
   ],
   "source": [
    "# Todo mayuscula\n",
    "mi_texto.upper()"
   ]
  },
  {
   "cell_type": "code",
   "execution_count": 62,
   "metadata": {},
   "outputs": [
    {
     "data": {
      "text/plain": [
       "'me gusta python'"
      ]
     },
     "execution_count": 62,
     "metadata": {},
     "output_type": "execute_result"
    }
   ],
   "source": [
    "# Todo minuscula\n",
    "mi_texto.lower()"
   ]
  },
  {
   "cell_type": "markdown",
   "metadata": {},
   "source": [
    "# Librerias\n",
    "\n",
    ">Los lenguajes de programacion cuentan con una serie de herramientas basicas incorporadas, como las que acabamos de ver. sin embargo, existen expasiones de funcionalidades que han sido desarrolladas previamente de modo de ahorrarnos trabajo y hacer todo mas simple.\n",
    ">\n",
    ">Estas expanciones se llaman bibliotecas o librerias"
   ]
  },
  {
   "cell_type": "code",
   "execution_count": 63,
   "metadata": {},
   "outputs": [],
   "source": [
    "# Importaresmo algunasd e las librerias mas clasicas para el manejod e datos en python\n",
    "# Pandas es la librerioa basica para la manipuilacion y analicis de datos\n",
    "import pandas as pd\n",
    "\n",
    "# Numpy es la libreria para la manipulacion y creacion de vectores y matrices, ademas de algunas funciones matematicas\n",
    "import numpy as np\n",
    "\n",
    "# Matplotlib es la libreria para la creacion de graficos\n",
    "import matplotlib.pyplot as plt\n",
    "\n",
    "# Seaborn es una libreria para la creacion de graficos estadisticos\n",
    "import seaborn as sns\n",
    "\n",
    "# Statsmodels es una libreria para la creacion de modelos estadisticos\n",
    "import statsmodels.formula.api as smf"
   ]
  }
 ],
 "metadata": {
  "kernelspec": {
   "display_name": "Python 3",
   "language": "python",
   "name": "python3"
  },
  "language_info": {
   "codemirror_mode": {
    "name": "ipython",
    "version": 3
   },
   "file_extension": ".py",
   "mimetype": "text/x-python",
   "name": "python",
   "nbconvert_exporter": "python",
   "pygments_lexer": "ipython3",
   "version": "3.11.8"
  }
 },
 "nbformat": 4,
 "nbformat_minor": 2
}
